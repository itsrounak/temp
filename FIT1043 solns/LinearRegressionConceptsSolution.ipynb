{
 "cells": [
  {
   "cell_type": "markdown",
   "metadata": {},
   "source": [
    "# Introduction\n",
    "**Machine Learning (ML)** is a method of data analysis to perform a specific task based on existence patterns in data and inference instead of explicit instructions. It seems that detecting patterns is an important task in ML. But, what is pattern?\n",
    "\n",
    "Assume you have the following dataset (in a dataframe form) about information of age and income of 40 people."
   ]
  },
  {
   "cell_type": "code",
   "execution_count": 1,
   "metadata": {},
   "outputs": [],
   "source": [
    "#Import libraries\n",
    "import pandas as pd\n",
    "import random# added for data generation\n",
    "import matplotlib.pyplot as plt"
   ]
  },
  {
   "cell_type": "code",
   "execution_count": 2,
   "metadata": {},
   "outputs": [
    {
     "data": {
      "text/html": [
       "<div>\n",
       "<style scoped>\n",
       "    .dataframe tbody tr th:only-of-type {\n",
       "        vertical-align: middle;\n",
       "    }\n",
       "\n",
       "    .dataframe tbody tr th {\n",
       "        vertical-align: top;\n",
       "    }\n",
       "\n",
       "    .dataframe thead th {\n",
       "        text-align: right;\n",
       "    }\n",
       "</style>\n",
       "<table border=\"1\" class=\"dataframe\">\n",
       "  <thead>\n",
       "    <tr style=\"text-align: right;\">\n",
       "      <th></th>\n",
       "      <th>Age</th>\n",
       "      <th>Income</th>\n",
       "    </tr>\n",
       "  </thead>\n",
       "  <tbody>\n",
       "    <tr>\n",
       "      <th>0</th>\n",
       "      <td>20</td>\n",
       "      <td>2400</td>\n",
       "    </tr>\n",
       "    <tr>\n",
       "      <th>1</th>\n",
       "      <td>21</td>\n",
       "      <td>2500</td>\n",
       "    </tr>\n",
       "    <tr>\n",
       "      <th>2</th>\n",
       "      <td>22</td>\n",
       "      <td>2600</td>\n",
       "    </tr>\n",
       "    <tr>\n",
       "      <th>3</th>\n",
       "      <td>23</td>\n",
       "      <td>2700</td>\n",
       "    </tr>\n",
       "    <tr>\n",
       "      <th>4</th>\n",
       "      <td>24</td>\n",
       "      <td>2800</td>\n",
       "    </tr>\n",
       "  </tbody>\n",
       "</table>\n",
       "</div>"
      ],
      "text/plain": [
       "   Age  Income\n",
       "0   20    2400\n",
       "1   21    2500\n",
       "2   22    2600\n",
       "3   23    2700\n",
       "4   24    2800"
      ]
     },
     "execution_count": 2,
     "metadata": {},
     "output_type": "execute_result"
    }
   ],
   "source": [
    "df = pd.DataFrame({'Age' : [20,21,22,23,24,25,26,27,28,29,31,32,33,34,35,36,37,38,39,40],\n",
    "'Income' :[2400,2500,2600,2700,2800,2900,3000,3100,3200,3300,3500,3600,3700,3800,3900,4000,4100,4200,4300,4400]})\n",
    "df.head()"
   ]
  },
  {
   "cell_type": "markdown",
   "metadata": {},
   "source": [
    "Do you see any relation between Age and Income? We have already learned how to create different plots. Let's use a plot which can show the relation between two variables. By relation we mean how the values of Income would cha?nge with the changes in the values of Age. We can show this relationship with a Scatter plot. Let's show a scatter plot of Age versus Income."
   ]
  },
  {
   "cell_type": "code",
   "execution_count": 3,
   "metadata": {},
   "outputs": [
    {
     "data": {
      "image/png": "[encoded data removed]",
      "text/plain": [
       "<Figure size 432x288 with 1 Axes>"
      ]
     },
     "metadata": {
      "needs_background": "light"
     },
     "output_type": "display_data"
    }
   ],
   "source": [
    "plt.scatter(df['Age'],df['Income'])\n",
    "plt.xlabel('Age')\n",
    "plt.ylabel('Income')\n",
    "plt.show()"
   ]
  },
  {
   "cell_type": "markdown",
   "metadata": {},
   "source": [
    "Considering the plot above, can you guess which one of the following can be the values of Income of a person who is 41?\n",
    "\n",
    "* 4000\n",
    "* 2000\n",
    "* 4500\n",
    "\n",
    "If you chose 4500, you are right. As you can see by increasing the age values, the income values always increase as well. Congrats! You detected the genral **pattern** in this data set.\n",
    "\n",
    "**PATTERN of this Data Set:** By increasing the Age, Income increases as well.\n",
    "\n",
    "\n",
    "Now let us change the data set a bit and add information of other people from a different country to see if the general pattern changes or not.\n"
   ]
  },
  {
   "cell_type": "code",
   "execution_count": 4,
   "metadata": {},
   "outputs": [
    {
     "data": {
      "image/png": "[encoded data removed]",
      "text/plain": [
       "<Figure size 432x288 with 1 Axes>"
      ]
     },
     "metadata": {
      "needs_background": "light"
     },
     "output_type": "display_data"
    }
   ],
   "source": [
    "dfNewCountry= pd.DataFrame({'Age' : [21,27,28,39,35],\n",
    "'Income' :[2550,1600,1600,2300,3800]})\n",
    "dfAllCountries=pd.concat([df,dfNewCountry])\n",
    "plt.scatter(dfAllCountries['Age'],dfAllCountries['Income'])\n",
    "plt.xlabel('Age')\n",
    "plt.title('Age vs Income in two countries')\n",
    "plt.ylabel('Income')\n",
    "plt.show()"
   ]
  },
  {
   "cell_type": "markdown",
   "metadata": {},
   "source": [
    "Again, try to answer this question. Considering the plot above, can you guess which of the following Income would be the income of a person who is 41?\n",
    "\n",
    "* 4000\n",
    "* 2000\n",
    "* 4500\n",
    "\n",
    "If your answer is 4500, you are right! Otherwise, please bear in your mind the following tip:\n",
    "\n",
    "In ML, Pattern refers to ***general pattern*** and we ignore the minority of data points which have different values from the majority when we detect the pattern. In the plot 'Age vs Income in two countries', we ignore infomration of 3 people whose income values were far from the rest and just determine the pattern based on the general increasing relation between values of Age and Income.\n",
    "It seems that by detecting the general pattern, we are able to predict the income of people who are older than 40. Age is called an independent variabe or predictor whereas Income is  dependent or respone variable. We use independent variable to predict the value of dependent variable, e.g, we used variable 'Age' (Inependent variable) to predict variable 'Income'(Dependent Variable).\n",
    "\n",
    "What you did to guess the income of a person who has 41, was an example of prediction. You took a look at the data and understood the relation between Age and income for those who are between 18 and 40 and predicted the Income of a a person who has 41. That's exactly what ML does. We give a dataset to a machine learning algorithm, it finds general patterns (builds a model) and does predictions based on the given dataset. Then, the model predicts the income of those who are older than 40 based on the detected general pattern."
   ]
  },
  {
   "cell_type": "markdown",
   "metadata": {},
   "source": [
    "# Liner Regression"
   ]
  },
  {
   "cell_type": "markdown",
   "metadata": {},
   "source": [
    "Linear regression is a linear approach to detect the relationship between a response and one or more Independent variables. First, we create a data set and then we define a linear function represents the general pattern between dependent and independent variables."
   ]
  },
  {
   "cell_type": "markdown",
   "metadata": {},
   "source": [
    "# Generate Data"
   ]
  },
  {
   "cell_type": "code",
   "execution_count": 5,
   "metadata": {},
   "outputs": [
    {
     "data": {
      "text/plain": [
       "[2, 9, 3, 25, 14, 28, 4, 29, 13, 18, 20, 11, 19, 22, 27, 15, 6, 24, 21, 23]"
      ]
     },
     "execution_count": 5,
     "metadata": {},
     "output_type": "execute_result"
    }
   ],
   "source": [
    "random.seed(123)\n",
    "indntVar=random.sample(range(1, 30), 20)\n",
    "indntVar"
   ]
  },
  {
   "cell_type": "code",
   "execution_count": 6,
   "metadata": {},
   "outputs": [
    {
     "data": {
      "text/plain": [
       "[2, 9, 3, 25, 14, 28, 4, 29, 13, 18, 20, 11, 19, 22, 27, 15, 6, 24, 21, 23]"
      ]
     },
     "execution_count": 6,
     "metadata": {},
     "output_type": "execute_result"
    }
   ],
   "source": [
    "depntVar=[x for x in indntVar]\n",
    "depntVar"
   ]
  },
  {
   "cell_type": "code",
   "execution_count": 7,
   "metadata": {},
   "outputs": [],
   "source": [
    "#True function\n",
    "TrueX=indntVar[:]\n",
    "TrueY=depntVar[:]"
   ]
  },
  {
   "cell_type": "code",
   "execution_count": 8,
   "metadata": {},
   "outputs": [
    {
     "data": {
      "image/png": "[encoded data removed]",
      "text/plain": [
       "<Figure size 432x288 with 1 Axes>"
      ]
     },
     "metadata": {
      "needs_background": "light"
     },
     "output_type": "display_data"
    }
   ],
   "source": [
    "plt.scatter(indntVar,depntVar)\n",
    "plt.plot(TrueX,TrueX,'r-', linewidth=3)\n",
    "plt.show()"
   ]
  },
  {
   "cell_type": "markdown",
   "metadata": {},
   "source": [
    "# Add Noise to the dataset"
   ]
  },
  {
   "cell_type": "code",
   "execution_count": 9,
   "metadata": {},
   "outputs": [],
   "source": [
    "#Adding noise to X\n",
    "random.seed(123)\n",
    "noisXVals=random.sample(range(1, 30), 10)      \n",
    "indntVar.extend(noisXVals)"
   ]
  },
  {
   "cell_type": "code",
   "execution_count": 10,
   "metadata": {},
   "outputs": [],
   "source": [
    "#Adding Noise to Y\n",
    "random.seed(123)\n",
    "NoiseYVals=[x+round(random.uniform(-10,8)) for x in noisXVals]\n",
    "depntVar.extend(NoiseYVals)"
   ]
  },
  {
   "cell_type": "markdown",
   "metadata": {},
   "source": [
    "## Can you find a mathematical function which represents the general pattern in your data set?!"
   ]
  },
  {
   "cell_type": "code",
   "execution_count": 11,
   "metadata": {},
   "outputs": [
    {
     "data": {
      "image/png": "[encoded data removed]",
      "text/plain": [
       "<Figure size 432x288 with 1 Axes>"
      ]
     },
     "metadata": {
      "needs_background": "light"
     },
     "output_type": "display_data"
    }
   ],
   "source": [
    "plt.scatter(indntVar,depntVar)\n",
    "plt.plot(TrueX,TrueX,'r-', linewidth=3)\n",
    "plt.show()"
   ]
  },
  {
   "cell_type": "markdown",
   "metadata": {},
   "source": [
    "What if data is scattered more?! Let us add more noise to this data set by following commands and see if we can still represent the general trend by a line.\n",
    "\n",
    "### Practice: Add more noise to the data set and try to see if you can find a line which represents the general pattern."
   ]
  },
  {
   "cell_type": "code",
   "execution_count": 12,
   "metadata": {},
   "outputs": [],
   "source": [
    "#Adding noise to X\n",
    "random.seed(123)\n",
    "noisXVals=random.sample(range(1, 30), 25)      \n",
    "indntVar.extend(noisXVals)"
   ]
  },
  {
   "cell_type": "code",
   "execution_count": 13,
   "metadata": {},
   "outputs": [],
   "source": [
    "#Adding Noise to Y\n",
    "random.seed(123)\n",
    "NoiseYVals=[x+round(random.uniform(-10,8)) for x in noisXVals]\n",
    "depntVar.extend(NoiseYVals)"
   ]
  },
  {
   "cell_type": "code",
   "execution_count": 14,
   "metadata": {},
   "outputs": [
    {
     "data": {
      "image/png": "[encoded data removed]",
      "text/plain": [
       "<Figure size 432x288 with 1 Axes>"
      ]
     },
     "metadata": {
      "needs_background": "light"
     },
     "output_type": "display_data"
    }
   ],
   "source": [
    "plt.scatter(indntVar,depntVar)\n",
    "plt.plot(TrueX,TrueY,'r-', linewidth=3)\n",
    "plt.show()"
   ]
  },
  {
   "cell_type": "markdown",
   "metadata": {},
   "source": [
    "##### Do you think that the line which you found is the best line?\n",
    "If so, can you take a look at the next plot and say which line is the best line? The blue one or Red one?! How can you evaluate it?"
   ]
  },
  {
   "cell_type": "code",
   "execution_count": 15,
   "metadata": {},
   "outputs": [
    {
     "data": {
      "image/png": "[encoded data removed]",
      "text/plain": [
       "<Figure size 432x288 with 1 Axes>"
      ]
     },
     "metadata": {
      "needs_background": "light"
     },
     "output_type": "display_data"
    }
   ],
   "source": [
    "TrueYNew=[x-1.5 for x in TrueY]\n",
    "plt.scatter(indntVar,depntVar)\n",
    "plt.plot(TrueX,TrueY,'r-', linewidth=3)\n",
    "plt.plot(TrueX,TrueYNew,'b-', linewidth=3)\n",
    "plt.show()"
   ]
  },
  {
   "cell_type": "markdown",
   "metadata": {},
   "source": [
    "# Linear Regression in Python\n",
    "\n",
    "There are different packages in Python which can be used to create a linear regression model. We use package scipy to create our model."
   ]
  },
  {
   "cell_type": "code",
   "execution_count": 16,
   "metadata": {},
   "outputs": [],
   "source": [
    "from scipy.stats import linregress"
   ]
  },
  {
   "cell_type": "code",
   "execution_count": 17,
   "metadata": {},
   "outputs": [
    {
     "data": {
      "image/png": "[encoded data removed]",
      "text/plain": [
       "<Figure size 576x360 with 1 Axes>"
      ]
     },
     "metadata": {
      "needs_background": "light"
     },
     "output_type": "display_data"
    }
   ],
   "source": [
    "slope, intercept, r_value, p_value, std_err = linregress(indntVar,depntVar)\n",
    "# With the slope and the intercept we can use the 'for' syntax to compute the line (a list of y-values corresponding to the input x-values)\n",
    "\n",
    "line = [slope*xi + intercept for xi in indntVar]\n",
    "# We can then plot the 'line': \n",
    "fig= plt.figure(figsize=(8,5))\n",
    "plt.plot(indntVar,line,'g-', linewidth=2)\n",
    "plt.plot(TrueX,TrueY,'r-', linewidth=2)\n",
    "plt.plot(TrueX,TrueYNew,'b-', linewidth=2)\n",
    "# And add the original data points to the same plot:\n",
    "plt.scatter(indntVar, depntVar)\n",
    "plt.show() \n"
   ]
  },
  {
   "cell_type": "code",
   "execution_count": 18,
   "metadata": {},
   "outputs": [
    {
     "name": "stdout",
     "output_type": "stream",
     "text": [
      "0.9872471858315104 -2.291269581835099 0.8898998133637184 1.0456160560469256e-19\n"
     ]
    }
   ],
   "source": [
    "print(slope,intercept,r_value,p_value)"
   ]
  },
  {
   "cell_type": "markdown",
   "metadata": {},
   "source": [
    "Now, you can see why we need linear regression. \n",
    "\n",
    "## ***Practice:***\n",
    "Create a linear regression model for the following dtaframe. Which variable should be considered as independent and which one should be considered as dependent? "
   ]
  },
  {
   "cell_type": "code",
   "execution_count": 19,
   "metadata": {},
   "outputs": [
    {
     "data": {
      "text/html": [
       "<div>\n",
       "<style scoped>\n",
       "    .dataframe tbody tr th:only-of-type {\n",
       "        vertical-align: middle;\n",
       "    }\n",
       "\n",
       "    .dataframe tbody tr th {\n",
       "        vertical-align: top;\n",
       "    }\n",
       "\n",
       "    .dataframe thead th {\n",
       "        text-align: right;\n",
       "    }\n",
       "</style>\n",
       "<table border=\"1\" class=\"dataframe\">\n",
       "  <thead>\n",
       "    <tr style=\"text-align: right;\">\n",
       "      <th></th>\n",
       "      <th>Age</th>\n",
       "      <th>Name</th>\n",
       "      <th>Runs</th>\n",
       "    </tr>\n",
       "  </thead>\n",
       "  <tbody>\n",
       "    <tr>\n",
       "      <th>0</th>\n",
       "      <td>22</td>\n",
       "      <td>Mike</td>\n",
       "      <td>1000</td>\n",
       "    </tr>\n",
       "    <tr>\n",
       "      <th>1</th>\n",
       "      <td>25</td>\n",
       "      <td>Aaron</td>\n",
       "      <td>980</td>\n",
       "    </tr>\n",
       "    <tr>\n",
       "      <th>2</th>\n",
       "      <td>25</td>\n",
       "      <td>Brad</td>\n",
       "      <td>900</td>\n",
       "    </tr>\n",
       "    <tr>\n",
       "      <th>3</th>\n",
       "      <td>26</td>\n",
       "      <td>Steve</td>\n",
       "      <td>900</td>\n",
       "    </tr>\n",
       "    <tr>\n",
       "      <th>4</th>\n",
       "      <td>28</td>\n",
       "      <td>George</td>\n",
       "      <td>828</td>\n",
       "    </tr>\n",
       "    <tr>\n",
       "      <th>5</th>\n",
       "      <td>28</td>\n",
       "      <td>Mitchell</td>\n",
       "      <td>700</td>\n",
       "    </tr>\n",
       "    <tr>\n",
       "      <th>6</th>\n",
       "      <td>31</td>\n",
       "      <td>Shaun</td>\n",
       "      <td>672</td>\n",
       "    </tr>\n",
       "    <tr>\n",
       "      <th>7</th>\n",
       "      <td>32</td>\n",
       "      <td>Glenn</td>\n",
       "      <td>662</td>\n",
       "    </tr>\n",
       "    <tr>\n",
       "      <th>8</th>\n",
       "      <td>33</td>\n",
       "      <td>Pat</td>\n",
       "      <td>655</td>\n",
       "    </tr>\n",
       "    <tr>\n",
       "      <th>9</th>\n",
       "      <td>39</td>\n",
       "      <td>Robert</td>\n",
       "      <td>600</td>\n",
       "    </tr>\n",
       "    <tr>\n",
       "      <th>10</th>\n",
       "      <td>44</td>\n",
       "      <td>David</td>\n",
       "      <td>557</td>\n",
       "    </tr>\n",
       "  </tbody>\n",
       "</table>\n",
       "</div>"
      ],
      "text/plain": [
       "    Age      Name  Runs\n",
       "0    22      Mike  1000\n",
       "1    25     Aaron   980\n",
       "2    25      Brad   900\n",
       "3    26     Steve   900\n",
       "4    28    George   828\n",
       "5    28  Mitchell   700\n",
       "6    31     Shaun   672\n",
       "7    32     Glenn   662\n",
       "8    33       Pat   655\n",
       "9    39    Robert   600\n",
       "10   44     David   557"
      ]
     },
     "execution_count": 19,
     "metadata": {},
     "output_type": "execute_result"
    }
   ],
   "source": [
    "df = pd.DataFrame({'Name' : ['Mike','Aaron','Brad','Steve','George','Mitchell','Shaun','Glenn','Pat','Robert','David'],\n",
    "'Age' : [22, 25, 25, 26, 28, 28, 31, 32, 33, 39, 44],\n",
    "'Runs' :[1000, 980, 900, 900, 828, 700, 672, 662, 655, 600, 557]})\n",
    "df"
   ]
  },
  {
   "cell_type": "code",
   "execution_count": 20,
   "metadata": {},
   "outputs": [
    {
     "data": {
      "image/png": "[encoded data removed]",
      "text/plain": [
       "<Figure size 432x288 with 1 Axes>"
      ]
     },
     "metadata": {
      "needs_background": "light"
     },
     "output_type": "display_data"
    }
   ],
   "source": [
    "slope, intercept, r_value, p_value, std_err = linregress(df['Age'],df['Runs'])\n",
    "# With the slope and the intercept we can use the 'for' syntax to compute the line (a list of y-values corresponding to the input x-values)\n",
    "\n",
    "line = [slope*xi + intercept for xi in df['Age']]\n",
    "# We can then plot the 'line': \n",
    "\n",
    "plt.plot(df['Age'],line,'r-', linewidth=3)\n",
    "# And add the original data points to the same plot:\n",
    "\n",
    "plt.scatter(df['Age'], df['Runs'])\n",
    "plt.show() \n"
   ]
  },
  {
   "cell_type": "code",
   "execution_count": 21,
   "metadata": {},
   "outputs": [
    {
     "name": "stdout",
     "output_type": "stream",
     "text": [
      "-21.492356687898084 1419.1777070063692 -0.8933982750064317 0.00021120887492235416\n"
     ]
    }
   ],
   "source": [
    "print(slope,intercept,r_value,p_value)"
   ]
  },
  {
   "cell_type": "markdown",
   "metadata": {},
   "source": [
    "## Practice : \n",
    "Create another a linear regression model for dfAllCountries? "
   ]
  },
  {
   "cell_type": "code",
   "execution_count": 22,
   "metadata": {},
   "outputs": [
    {
     "data": {
      "image/png": "[encoded data removed]",
      "text/plain": [
       "<Figure size 432x288 with 1 Axes>"
      ]
     },
     "metadata": {
      "needs_background": "light"
     },
     "output_type": "display_data"
    }
   ],
   "source": [
    "slope, intercept, r_value, p_value, std_err = linregress(dfAllCountries['Age'],dfAllCountries['Income'])\n",
    "# With the slope and the intercept we can use the 'for' syntax to compute the line (a list of y-values corresponding to the input x-values)\n",
    "\n",
    "line = [slope*xi + intercept for xi in dfAllCountries['Age']]\n",
    "# We can then plot the 'line': \n",
    "\n",
    "plt.plot(dfAllCountries['Age'],line,'r-', linewidth=3)\n",
    "# And add the original data points to the same plot:\n",
    "\n",
    "plt.scatter(dfAllCountries['Age'], dfAllCountries['Income'])\n",
    "plt.show() \n"
   ]
  },
  {
   "cell_type": "code",
   "execution_count": 23,
   "metadata": {},
   "outputs": [
    {
     "name": "stdout",
     "output_type": "stream",
     "text": [
      "0.7059286583802837 8.058365943277435e-05\n"
     ]
    }
   ],
   "source": [
    "print(r_value,p_value)"
   ]
  },
  {
   "cell_type": "markdown",
   "metadata": {},
   "source": [
    "## Practice \n",
    "Do you think that you can use your model to predict income of 70 years old person? Why? Why not?\n",
    "***No***, because the relation between age and income is not increasing for those who are older than 60 and our prediction will not be accurate.\n",
    "\n",
    "### Hint: The relation between independent and dependent variable ***SHOULD*** be assumed linear to be able to use Linear regression"
   ]
  }
 ],
 "metadata": {
  "kernelspec": {
   "display_name": "Python 3",
   "language": "python",
   "name": "python3"
  },
  "language_info": {
   "codemirror_mode": {
    "name": "ipython",
    "version": 3
   },
   "file_extension": ".py",
   "mimetype": "text/x-python",
   "name": "python",
   "nbconvert_exporter": "python",
   "pygments_lexer": "ipython3",
   "version": "3.6.6"
  }
 },
 "nbformat": 4,
 "nbformat_minor": 2
}
