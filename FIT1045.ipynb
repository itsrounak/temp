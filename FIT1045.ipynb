{
 "cells": [
  {
   "cell_type": "markdown",
   "metadata": {},
   "source": [
    "### Lecture 8 (Sorting)"
   ]
  },
  {
   "cell_type": "code",
   "execution_count": 1,
   "metadata": {},
   "outputs": [],
   "source": [
    "# Sorting is basically arranging things in an order(ascending or descending)\n",
    "# We are mainly gonna focus on two sorting algorithms in this lecture(insertion sort and selection sort)"
   ]
  },
  {
   "cell_type": "code",
   "execution_count": 2,
   "metadata": {},
   "outputs": [],
   "source": [
    "# Input: list of comparable element\n",
    "# Output: Sorted list(containing exactly the same elements)"
   ]
  },
  {
   "cell_type": "markdown",
   "metadata": {},
   "source": [
    "## Selection Sort"
   ]
  },
  {
   "cell_type": "markdown",
   "metadata": {},
   "source": [
    "### Selection sort breaks the input list in two parts, the sorted part which initially is empty, and the unsortedpart, which initially contains the list of all elements. The algorithm then selects the minimum value of all the unsorted file and swaps it with the first unsorted value, and then increases the sorted part by one."
   ]
  },
  {
   "cell_type": "code",
   "execution_count": 3,
   "metadata": {},
   "outputs": [],
   "source": [
    "#Select smallest item in lst[i:n] and swap it with lst[i]"
   ]
  },
  {
   "cell_type": "code",
   "execution_count": 4,
   "metadata": {},
   "outputs": [],
   "source": [
    "def selection_sort(lst):\n",
    "    \"\"\"\"\n",
    "    input: list of comparable elements\n",
    "    post-cond: lst has same elements as on call but \n",
    "    for all i in range(1,n), lst[i-1] <= lst[i]\n",
    "    \"\"\"\n",
    "    for i in range(len(lst)):\n",
    "        min_pos = min_index(lst[i:]) + i\n",
    "        lst[i], lst[min_pos] = lst[min_pos], lst[i]\n",
    "    return lst\n",
    "\n",
    "def min_index(lst):\n",
    "    \"\"\"\"\n",
    "    input: list of length n>0 of comparable elements\n",
    "    post-cond: index of the smallest element in the lst\n",
    "    \"\"\"\n",
    "    min = lst[0]\n",
    "    min_pos = 0\n",
    "    for i in range(1,len(lst)):\n",
    "        if lst[i]< min:\n",
    "            min = lst[i]\n",
    "            min_pos = i\n",
    "    return min_pos"
   ]
  },
  {
   "cell_type": "code",
   "execution_count": 5,
   "metadata": {},
   "outputs": [
    {
     "name": "stdout",
     "output_type": "stream",
     "text": [
      "[2, 22, 43, 43, 65]\n",
      "[1, 2, 4, 6, 7]\n",
      "[-54, 54, 65, 432, 1000]\n",
      "[-25, 1, 3, 6, 9]\n"
     ]
    }
   ],
   "source": [
    "print(selection_sort([2,43,65,22,43]))\n",
    "print(selection_sort([1,2,4,6,7]))\n",
    "print(selection_sort([-54,65,432,54,1000]))\n",
    "print(selection_sort([9,6,3,1,-25]))"
   ]
  },
  {
   "cell_type": "code",
   "execution_count": 6,
   "metadata": {},
   "outputs": [],
   "source": [
    "#Even if the list is sorted selection sort is not that smart enough to know that it is and hence will check\n",
    "#throgh all the elemnts of the list "
   ]
  },
  {
   "cell_type": "markdown",
   "metadata": {},
   "source": [
    "## Insertion Sort"
   ]
  },
  {
   "cell_type": "markdown",
   "metadata": {},
   "source": [
    "### An array is partitioned into a \"sorted\" subarray and an \"unsorted\" subarray. At the beginning, the sorted  subarray contains only the first element of our original array.The first element in the unsorted array is evaluated so that we can insert it into its proper place in the sorted subarray.The insertion is done by moving all elements larger than the new element one position to the right."
   ]
  },
  {
   "cell_type": "code",
   "execution_count": 7,
   "metadata": {},
   "outputs": [],
   "source": [
    "# Insert item lst[i] into right place in lst[0:i+1]"
   ]
  },
  {
   "cell_type": "code",
   "execution_count": 8,
   "metadata": {},
   "outputs": [],
   "source": [
    "def insertion_sort(lst):\n",
    "    \"\"\"\"\n",
    "    input: list of comparable elements\n",
    "    post-cond: lst has same elements as on call but \n",
    "    for all i in range(1,n), lst[i-1] <= lst[i]\n",
    "    \"\"\"\n",
    "    for i in range(1,len(lst)):\n",
    "        insert(i,lst)\n",
    "    return lst\n",
    "        \n",
    "def insert(k,lst):\n",
    "    \"\"\"\"\n",
    "    input: list of comparable elements such that lst[:k] is sorted where k is the cuurent position\n",
    "    post-cond: lst[:k+1] is sorted\n",
    "    \"\"\"\n",
    "    # j is the current position\n",
    "    j = k \n",
    "    while j>0 and lst[j-1] > lst[j]:\n",
    "        lst[j-1],lst[j] = lst[j], lst[j-1]\n",
    "        j = j - 1"
   ]
  },
  {
   "cell_type": "code",
   "execution_count": 9,
   "metadata": {},
   "outputs": [
    {
     "name": "stdout",
     "output_type": "stream",
     "text": [
      "[2, 22, 43, 43, 65]\n",
      "[1, 2, 4, 6, 7]\n",
      "[-54, 54, 65, 432, 1000]\n",
      "[-25, 1, 3, 6, 9]\n"
     ]
    }
   ],
   "source": [
    "print(insertion_sort([2,43,65,22,43]))\n",
    "print(insertion_sort([1,2,4,6,7]))\n",
    "print(insertion_sort([-54,65,432,54,1000]))\n",
    "print(insertion_sort([9,6,3,1,-25]))"
   ]
  },
  {
   "cell_type": "code",
   "execution_count": null,
   "metadata": {},
   "outputs": [],
   "source": []
  },
  {
   "cell_type": "markdown",
   "metadata": {},
   "source": [
    "## Graphs and Spanning trees (Lecture 9)"
   ]
  },
  {
   "cell_type": "markdown",
   "metadata": {},
   "source": [
    "###  Given a graph G=(V,E), a subgraph of G that is connects all of the vertices and is a tree is called a spanning tree.\n",
    "### A vertex 𝑗 is called adjacent to a vertex 𝑖 (or a neighbour of 𝑖) if there is an edge 𝑖,𝑗 ∈ 𝐸.\n",
    "### A path is a non-self-intersecting sequence of vertices such that there is an edge between consecutive vertices in the sequence.\n",
    "### A cycle is a path with same start and end vertex."
   ]
  },
  {
   "cell_type": "markdown",
   "metadata": {},
   "source": [
    "## Representation of graph as adjacency matrix"
   ]
  },
  {
   "cell_type": "markdown",
   "metadata": {},
   "source": [
    "### Adjacency Matrix is a nested list of size V x V where V is the number of vertices in a graph. Let the nested list  be adj[][], a slot adj[i][j] = 1 indicates that there is an edge from vertex i to vertex j. Adjacency matrix for undirected graph is always symmetric. Adjacency Matrix is also used to represent weighted graphs. If adj[i][j] = w, then there is an edge from vertex i to vertex j with weight w."
   ]
  },
  {
   "cell_type": "code",
   "execution_count": 10,
   "metadata": {},
   "outputs": [],
   "source": [
    "def neighbours(i,g):\n",
    "    \"\"\"\n",
    "    Input: vertex(i) and graph(g)\n",
    "    Post-cond: neighbours of that vertex(i)\n",
    "    \"\"\"\n",
    "    res = []\n",
    "    for j in range(len(g)):\n",
    "        if g[i][j] == 1:\n",
    "            res.append(j)\n",
    "    return j"
   ]
  },
  {
   "cell_type": "code",
   "execution_count": 13,
   "metadata": {},
   "outputs": [
    {
     "data": {
      "text/plain": [
       "8"
      ]
     },
     "execution_count": 13,
     "metadata": {},
     "output_type": "execute_result"
    }
   ],
   "source": [
    "graph = \\\n",
    "     [[0,1,0,0,0,0,0,0,0],\n",
    "     [1,0,1,1,0,0,0,0,0],\n",
    "     [0,1,0,0,0,0,0,0,0],\n",
    "     [0,1,0,0,1,1,0,0,0],\n",
    "     [0,0,0,1,0,1,0,0,0],\n",
    "     [0,0,0,1,1,0,0,0,0],\n",
    "     [0,0,0,0,0,0,0,1,1],\n",
    "     [0,0,0,0,0,0,1,0,1],\n",
    "     [0,0,0,0,0,0,1,1,0]]\n",
    "neighbours(4,graph)\n"
   ]
  },
  {
   "cell_type": "code",
   "execution_count": 14,
   "metadata": {},
   "outputs": [],
   "source": [
    "# find spanning tree of a graph\n",
    "def spanning_tree(graph):\n",
    "    n = len(graph)\n",
    "    tree = empty_graph(n)  # function that creates n- by-n adjacency matrix with all entries zero\n",
    "    conn = {0}  # keeps track of already connected vertices\n",
    "    while len(conn) < n:  # since it was edges =n-1\n",
    "        i, j = extension(conn, graph)\n",
    "        tree[i][j],tree[j][i] = 1,1  # add found edge to result adj. mat. and newly connected vertex to conn\n",
    "        conn = conn.add(j) \n",
    "    return tree\n",
    "\n",
    "\n",
    "def extension(c, g):\n",
    "    n = len(g)\n",
    "    for i in c:\n",
    "        for j in range(n):\n",
    "            if j not in c \\\n",
    "            and g[i][j]:\n",
    "                return i, j\n",
    "\n",
    "            \n",
    "def empty_graph(n):\n",
    "    lst = [0 ] *n\n",
    "    for i in range(len(lst)):\n",
    "        lst[i] = [0 ] *n\n",
    "    return lst"
   ]
  },
  {
   "cell_type": "code",
   "execution_count": 15,
   "metadata": {},
   "outputs": [
    {
     "ename": "TypeError",
     "evalue": "object of type 'NoneType' has no len()",
     "output_type": "error",
     "traceback": [
      "\u001b[0;31m---------------------------------------------------------------------------\u001b[0m",
      "\u001b[0;31mTypeError\u001b[0m                                 Traceback (most recent call last)",
      "\u001b[0;32m<ipython-input-15-b34fb92c33b9>\u001b[0m in \u001b[0;36m<module>\u001b[0;34m\u001b[0m\n\u001b[1;32m     10\u001b[0m      [0,0,0,0,0,0,1,1,0]]\n\u001b[1;32m     11\u001b[0m \u001b[0;34m\u001b[0m\u001b[0m\n\u001b[0;32m---> 12\u001b[0;31m \u001b[0mspanning_tree\u001b[0m\u001b[0;34m(\u001b[0m\u001b[0mg\u001b[0m\u001b[0;34m)\u001b[0m\u001b[0;34m\u001b[0m\u001b[0;34m\u001b[0m\u001b[0m\n\u001b[0m",
      "\u001b[0;32m<ipython-input-14-337c1c6ca3bd>\u001b[0m in \u001b[0;36mspanning_tree\u001b[0;34m(graph)\u001b[0m\n\u001b[1;32m      4\u001b[0m     \u001b[0mtree\u001b[0m \u001b[0;34m=\u001b[0m \u001b[0mempty_graph\u001b[0m\u001b[0;34m(\u001b[0m\u001b[0mn\u001b[0m\u001b[0;34m)\u001b[0m  \u001b[0;31m# function that creates n- by-n adjacency matrix with all entries zero\u001b[0m\u001b[0;34m\u001b[0m\u001b[0;34m\u001b[0m\u001b[0m\n\u001b[1;32m      5\u001b[0m     \u001b[0mconn\u001b[0m \u001b[0;34m=\u001b[0m \u001b[0;34m{\u001b[0m\u001b[0;36m0\u001b[0m\u001b[0;34m}\u001b[0m  \u001b[0;31m# keeps track of already connected vertices\u001b[0m\u001b[0;34m\u001b[0m\u001b[0;34m\u001b[0m\u001b[0m\n\u001b[0;32m----> 6\u001b[0;31m     \u001b[0;32mwhile\u001b[0m \u001b[0mlen\u001b[0m\u001b[0;34m(\u001b[0m\u001b[0mconn\u001b[0m\u001b[0;34m)\u001b[0m \u001b[0;34m<\u001b[0m \u001b[0mn\u001b[0m\u001b[0;34m:\u001b[0m  \u001b[0;31m# since it was edges =n-1\u001b[0m\u001b[0;34m\u001b[0m\u001b[0;34m\u001b[0m\u001b[0m\n\u001b[0m\u001b[1;32m      7\u001b[0m         \u001b[0mi\u001b[0m\u001b[0;34m,\u001b[0m \u001b[0mj\u001b[0m \u001b[0;34m=\u001b[0m \u001b[0mextension\u001b[0m\u001b[0;34m(\u001b[0m\u001b[0mconn\u001b[0m\u001b[0;34m,\u001b[0m \u001b[0mgraph\u001b[0m\u001b[0;34m)\u001b[0m\u001b[0;34m\u001b[0m\u001b[0;34m\u001b[0m\u001b[0m\n\u001b[1;32m      8\u001b[0m         \u001b[0mtree\u001b[0m\u001b[0;34m[\u001b[0m\u001b[0mi\u001b[0m\u001b[0;34m]\u001b[0m\u001b[0;34m[\u001b[0m\u001b[0mj\u001b[0m\u001b[0;34m]\u001b[0m\u001b[0;34m,\u001b[0m\u001b[0mtree\u001b[0m\u001b[0;34m[\u001b[0m\u001b[0mj\u001b[0m\u001b[0;34m]\u001b[0m\u001b[0;34m[\u001b[0m\u001b[0mi\u001b[0m\u001b[0;34m]\u001b[0m \u001b[0;34m=\u001b[0m \u001b[0;36m1\u001b[0m\u001b[0;34m,\u001b[0m\u001b[0;36m1\u001b[0m  \u001b[0;31m# add found edge to result adj. mat. and newly connected vertex to conn\u001b[0m\u001b[0;34m\u001b[0m\u001b[0;34m\u001b[0m\u001b[0m\n",
      "\u001b[0;31mTypeError\u001b[0m: object of type 'NoneType' has no len()"
     ]
    }
   ],
   "source": [
    "g = \\\n",
    "    [[0,1,0,0,0,0,0,0,0],\n",
    "     [1,0,1,1,0,0,0,0,0],\n",
    "     [0,1,0,0,0,0,0,0,0],\n",
    "     [0,1,0,0,1,1,0,0,0],\n",
    "     [0,0,0,1,0,1,0,0,0],\n",
    "     [0,0,0,1,1,0,0,0,0],\n",
    "     [0,0,0,0,0,0,0,1,1],\n",
    "     [0,0,0,0,0,0,1,0,1],\n",
    "     [0,0,0,0,0,0,1,1,0]]\n",
    "\n",
    "spanning_tree(g)"
   ]
  },
  {
   "cell_type": "code",
   "execution_count": 16,
   "metadata": {},
   "outputs": [
    {
     "ename": "TypeError",
     "evalue": "cannot unpack non-iterable NoneType object",
     "output_type": "error",
     "traceback": [
      "\u001b[0;31m---------------------------------------------------------------------------\u001b[0m",
      "\u001b[0;31mTypeError\u001b[0m                                 Traceback (most recent call last)",
      "\u001b[0;32m<ipython-input-16-3a4ef4ddbe7d>\u001b[0m in \u001b[0;36m<module>\u001b[0;34m\u001b[0m\n\u001b[1;32m     36\u001b[0m      [0,0,0,0,0,0,1,1,0]]\n\u001b[1;32m     37\u001b[0m \u001b[0;34m\u001b[0m\u001b[0m\n\u001b[0;32m---> 38\u001b[0;31m \u001b[0mspanning_tree\u001b[0m\u001b[0;34m(\u001b[0m\u001b[0mg\u001b[0m\u001b[0;34m)\u001b[0m\u001b[0;34m\u001b[0m\u001b[0;34m\u001b[0m\u001b[0m\n\u001b[0m",
      "\u001b[0;32m<ipython-input-16-3a4ef4ddbe7d>\u001b[0m in \u001b[0;36mspanning_tree\u001b[0;34m(graph)\u001b[0m\n\u001b[1;32m     12\u001b[0m     \u001b[0mconn\u001b[0m \u001b[0;34m=\u001b[0m \u001b[0;34m{\u001b[0m\u001b[0;36m0\u001b[0m\u001b[0;34m}\u001b[0m\u001b[0;34m\u001b[0m\u001b[0;34m\u001b[0m\u001b[0m\n\u001b[1;32m     13\u001b[0m     \u001b[0;32mwhile\u001b[0m \u001b[0mlen\u001b[0m\u001b[0;34m(\u001b[0m\u001b[0mconn\u001b[0m\u001b[0;34m)\u001b[0m \u001b[0;34m<\u001b[0m \u001b[0mn\u001b[0m\u001b[0;34m:\u001b[0m\u001b[0;34m\u001b[0m\u001b[0;34m\u001b[0m\u001b[0m\n\u001b[0;32m---> 14\u001b[0;31m         \u001b[0mi\u001b[0m\u001b[0;34m,\u001b[0m \u001b[0mj\u001b[0m \u001b[0;34m=\u001b[0m \u001b[0mextension\u001b[0m\u001b[0;34m(\u001b[0m\u001b[0mconn\u001b[0m\u001b[0;34m,\u001b[0m \u001b[0mgraph\u001b[0m\u001b[0;34m)\u001b[0m\u001b[0;34m\u001b[0m\u001b[0;34m\u001b[0m\u001b[0m\n\u001b[0m\u001b[1;32m     15\u001b[0m         \u001b[0mtree\u001b[0m\u001b[0;34m[\u001b[0m\u001b[0mi\u001b[0m\u001b[0;34m]\u001b[0m\u001b[0;34m[\u001b[0m\u001b[0mj\u001b[0m\u001b[0;34m]\u001b[0m\u001b[0;34m,\u001b[0m \u001b[0mtree\u001b[0m\u001b[0;34m[\u001b[0m\u001b[0mj\u001b[0m\u001b[0;34m]\u001b[0m\u001b[0;34m[\u001b[0m\u001b[0mi\u001b[0m\u001b[0;34m]\u001b[0m \u001b[0;34m=\u001b[0m \u001b[0;36m1\u001b[0m\u001b[0;34m,\u001b[0m \u001b[0;36m1\u001b[0m\u001b[0;34m\u001b[0m\u001b[0;34m\u001b[0m\u001b[0m\n\u001b[1;32m     16\u001b[0m         \u001b[0mcon\u001b[0m  \u001b[0;34m=\u001b[0m \u001b[0mconn\u001b[0m\u001b[0;34m.\u001b[0m\u001b[0madd\u001b[0m\u001b[0;34m(\u001b[0m\u001b[0mj\u001b[0m\u001b[0;34m)\u001b[0m\u001b[0;34m\u001b[0m\u001b[0;34m\u001b[0m\u001b[0m\n",
      "\u001b[0;31mTypeError\u001b[0m: cannot unpack non-iterable NoneType object"
     ]
    }
   ],
   "source": [
    "def extension(c, g):\n",
    "    n = len(g)\n",
    "    for i in c:\n",
    "        for j in range(n):\n",
    "            if j not in c and g[i][j]:\n",
    "                return i,j\n",
    "\n",
    "            \n",
    "def spanning_tree(graph):\n",
    "    n = len(graph)\n",
    "    tree = empty_graph(len(graph))\n",
    "    conn = {0}\n",
    "    while len(conn) < n:\n",
    "        i, j = extension(conn, graph)\n",
    "        tree[i][j], tree[j][i] = 1, 1\n",
    "        con  = conn.add(j)\n",
    "    return tree\n",
    "\n",
    "\n",
    "def empty_graph(n):\n",
    "    lst = [0] * n\n",
    "    for i in range(len(lst)):\n",
    "        lst[i] = [0 ] *n\n",
    "    return lst\n",
    "\n",
    "\n",
    "g = \\\n",
    "    [[0,1,0,0,0,0,0,0,0],\n",
    "     [1,0,1,1,0,0,0,0,0],\n",
    "     [0,1,0,0,0,0,0,0,0],\n",
    "     [0,1,0,0,1,1,0,0,0],\n",
    "     [0,0,0,1,0,1,0,0,0],\n",
    "     [0,0,0,1,1,0,0,0,0],\n",
    "     [0,0,0,0,0,0,0,1,1],\n",
    "     [0,0,0,0,0,0,1,0,1],\n",
    "     [0,0,0,0,0,0,1,1,0]]\n",
    "\n",
    "spanning_tree(g)"
   ]
  },
  {
   "cell_type": "code",
   "execution_count": null,
   "metadata": {},
   "outputs": [],
   "source": []
  },
  {
   "cell_type": "markdown",
   "metadata": {},
   "source": [
    "## Invariants (Lecture 10)"
   ]
  },
  {
   "cell_type": "markdown",
   "metadata": {},
   "source": [
    "## Assertions and invariants\n",
    "\n",
    "\n",
    "### An assertion is a logical statement on a program (execution) state.\n",
    "### A loop invariant is an assertion inside a loop that is true every time it is reached by the program execution.\n",
    "### We want invariants at end of loop that together with loop exit condition “turn into” desired post-condition."
   ]
  },
  {
   "cell_type": "code",
   "execution_count": null,
   "metadata": {},
   "outputs": [],
   "source": []
  },
  {
   "cell_type": "code",
   "execution_count": null,
   "metadata": {},
   "outputs": [],
   "source": []
  },
  {
   "cell_type": "markdown",
   "metadata": {},
   "source": [
    "## Computational Complexity (Lecture 11)"
   ]
  },
  {
   "cell_type": "markdown",
   "metadata": {},
   "source": [
    "#### The computational (time) complexity of an algorithm is the number of elementary steps T(n) needed for computing its output for an input of a size n.\n",
    " \n"
   ]
  },
  {
   "cell_type": "code",
   "execution_count": null,
   "metadata": {},
   "outputs": [],
   "source": []
  },
  {
   "cell_type": "code",
   "execution_count": null,
   "metadata": {},
   "outputs": [],
   "source": []
  },
  {
   "cell_type": "markdown",
   "metadata": {},
   "source": [
    "## Decrease and Conquer (Lecture 12)"
   ]
  },
  {
   "cell_type": "markdown",
   "metadata": {},
   "source": [
    "## Binary Search"
   ]
  },
  {
   "cell_type": "code",
   "execution_count": 17,
   "metadata": {},
   "outputs": [
    {
     "name": "stdout",
     "output_type": "stream",
     "text": [
      "3\n"
     ]
    }
   ],
   "source": [
    "def binary_search(s,lst):\n",
    "    mini = 0\n",
    "    maxi = len(lst)-1\n",
    "    while mini <= maxi:\n",
    "        mid = (mini + maxi) // 2\n",
    "        if s == lst[mid]:\n",
    "            return mid\n",
    "        elif lst[mid] > s:\n",
    "            maxi = mid-1\n",
    "        else:\n",
    "            mini = mid+1\n",
    "    return None\n",
    "\n",
    "\n",
    "print(binary_search(7,[4,5,6,7]))"
   ]
  },
  {
   "cell_type": "code",
   "execution_count": null,
   "metadata": {},
   "outputs": [],
   "source": []
  },
  {
   "cell_type": "markdown",
   "metadata": {},
   "source": [
    "## lec13"
   ]
  },
  {
   "cell_type": "code",
   "execution_count": 27,
   "metadata": {},
   "outputs": [
    {
     "name": "stdout",
     "output_type": "stream",
     "text": [
      "[-23, -1, 1, 2, 5, 5, 7, 21]\n"
     ]
    }
   ],
   "source": [
    "def merge(lst1, lst2):\n",
    "    n = len(lst1)\n",
    "    m = len(lst2)\n",
    "    lst = [] *  (n + m)\n",
    "    i = 0\n",
    "    j = 0\n",
    "    while i < n and j < m:\n",
    "        if lst1[i] <= lst2[j]:\n",
    "            lst.append(lst1[i])\n",
    "            i += 1\n",
    "        else:\n",
    "            lst.append(lst2[j])\n",
    "            j += 1\n",
    "\n",
    "    return lst + lst1[i:] + lst2[j:]\n",
    "\n",
    "def merge_sort(lst):\n",
    "    m = len(lst)\n",
    "    if m <= 1:\n",
    "        return lst\n",
    "    mid = m // 2\n",
    "    lst1 = merge_sort(lst[0:mid])\n",
    "    lst2 = merge_sort(lst[mid :m])\n",
    "    return merge(lst1, lst2)\n",
    "\n",
    "print(merge_sort([-1,2,5,-23,7,21,5,1]))"
   ]
  },
  {
   "cell_type": "code",
   "execution_count": null,
   "metadata": {},
   "outputs": [],
   "source": []
  },
  {
   "cell_type": "code",
   "execution_count": 28,
   "metadata": {},
   "outputs": [],
   "source": [
    "#Lec 15"
   ]
  },
  {
   "cell_type": "code",
   "execution_count": null,
   "metadata": {},
   "outputs": [],
   "source": [
    "def reached(graph,s):\n",
    "    visited = []\n",
    "    boundary = [s]\n",
    "    while len(boundary) > 0:\n",
    "        v = boundary.pop()\n",
    "        visited += [v]\n",
    "        for w in neighbours(v,graph):\n",
    "            if w not in visited and w not in boundary:\n",
    "                boundary.append(w)\n",
    "    return visited"
   ]
  },
  {
   "cell_type": "code",
   "execution_count": 29,
   "metadata": {},
   "outputs": [],
   "source": [
    " def dfs_traversal(graph, s):\n",
    "    visited = []\n",
    "    boundary = [s]\n",
    "    while len(boundary) > 0:\n",
    "        v = boundary.pop()\n",
    "        visited += [v]\n",
    "        for w in neighbours(v, graph):\n",
    "            if w not in visited and w not in boundary: \n",
    "                boundary.append(w)\n",
    "    return vis"
   ]
  },
  {
   "cell_type": "code",
   "execution_count": null,
   "metadata": {},
   "outputs": [],
   "source": [
    " "
   ]
  },
  {
   "cell_type": "code",
   "execution_count": null,
   "metadata": {},
   "outputs": [],
   "source": []
  },
  {
   "cell_type": "code",
   "execution_count": null,
   "metadata": {},
   "outputs": [],
   "source": []
  },
  {
   "cell_type": "code",
   "execution_count": null,
   "metadata": {},
   "outputs": [],
   "source": []
  },
  {
   "cell_type": "code",
   "execution_count": null,
   "metadata": {},
   "outputs": [],
   "source": []
  },
  {
   "cell_type": "code",
   "execution_count": null,
   "metadata": {},
   "outputs": [],
   "source": []
  },
  {
   "cell_type": "code",
   "execution_count": null,
   "metadata": {},
   "outputs": [],
   "source": []
  },
  {
   "cell_type": "code",
   "execution_count": null,
   "metadata": {},
   "outputs": [],
   "source": []
  },
  {
   "cell_type": "code",
   "execution_count": null,
   "metadata": {},
   "outputs": [],
   "source": []
  },
  {
   "cell_type": "code",
   "execution_count": null,
   "metadata": {},
   "outputs": [],
   "source": []
  },
  {
   "cell_type": "code",
   "execution_count": null,
   "metadata": {},
   "outputs": [],
   "source": []
  },
  {
   "cell_type": "code",
   "execution_count": null,
   "metadata": {},
   "outputs": [],
   "source": []
  },
  {
   "cell_type": "code",
   "execution_count": null,
   "metadata": {},
   "outputs": [],
   "source": []
  },
  {
   "cell_type": "code",
   "execution_count": null,
   "metadata": {},
   "outputs": [],
   "source": []
  },
  {
   "cell_type": "code",
   "execution_count": null,
   "metadata": {},
   "outputs": [],
   "source": []
  }
 ],
 "metadata": {
  "kernelspec": {
   "display_name": "Python 3",
   "language": "python",
   "name": "python3"
  },
  "language_info": {
   "codemirror_mode": {
    "name": "ipython",
    "version": 3
   },
   "file_extension": ".py",
   "mimetype": "text/x-python",
   "name": "python",
   "nbconvert_exporter": "python",
   "pygments_lexer": "ipython3",
   "version": "3.8.3"
  }
 },
 "nbformat": 4,
 "nbformat_minor": 4
}
